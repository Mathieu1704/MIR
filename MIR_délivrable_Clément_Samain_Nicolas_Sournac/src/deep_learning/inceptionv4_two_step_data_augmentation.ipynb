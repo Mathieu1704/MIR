{
 "cells": [
  {
   "cell_type": "code",
   "execution_count": 2,
   "metadata": {},
   "outputs": [],
   "source": [
    "import os\n",
    "import torch\n",
    "import torchvision\n",
    "import timm\n",
    "\n",
    "import matplotlib.pyplot as plt\n",
    "import numpy as np\n",
    "\n",
    "from torch.utils.data import Dataset, DataLoader\n",
    "from torchvision import transforms, utils\n",
    "from PIL import Image\n",
    "from tqdm import tqdm"
   ]
  },
  {
   "cell_type": "code",
   "execution_count": 3,
   "metadata": {},
   "outputs": [
    {
     "name": "stdout",
     "output_type": "stream",
     "text": [
      "Using device:  cuda\n"
     ]
    }
   ],
   "source": [
    "if torch.backends.mps.is_available():\n",
    "    device = torch.device('mps')\n",
    "elif torch.cuda.is_available():\n",
    "    device = torch.device('cuda')\n",
    "else:\n",
    "    device = torch.device('cpu')\n",
    "print(\"Using device: \", device)"
   ]
  },
  {
   "cell_type": "code",
   "execution_count": 4,
   "metadata": {},
   "outputs": [],
   "source": [
    "def extract_class_id(image_name):\n",
    "    \"\"\"\n",
    "    Image name example:\n",
    "    0_1_BMW_X3_156 => 1\n",
    "    2_4_Volkswagen_Polo_3471 => 24\n",
    "    8_6_Ford_Focus_11936 => 86\n",
    "    \"\"\"\n",
    "    image_name = image_name.split(\"/\")[-1]\n",
    "    image_name = image_name.split(\".\")[0]\n",
    "    return int(image_name.split(\"_\")[0] + image_name.split(\"_\")[1])"
   ]
  },
  {
   "cell_type": "code",
   "execution_count": 5,
   "metadata": {},
   "outputs": [],
   "source": [
    "#Load dataset\n",
    "data_dir = '../../data/dataset'\n",
    "#Set output path\n",
    "output_path = \"../../outputs/inceptionv4_2_steps_data_augmentation\"\n",
    "if not os.path.exists(output_path):\n",
    "    os.makedirs(output_path)"
   ]
  },
  {
   "cell_type": "code",
   "execution_count": 6,
   "metadata": {},
   "outputs": [
    {
     "name": "stdout",
     "output_type": "stream",
     "text": [
      "8065 960 960\n"
     ]
    }
   ],
   "source": [
    "items_per_class = 10\n",
    "train_files = []\n",
    "val_files = []\n",
    "test_files = []\n",
    "\n",
    "class_files = {}\n",
    "for file in os.listdir(data_dir):\n",
    "    class_id = extract_class_id(file)\n",
    "    if class_id not in class_files:\n",
    "        class_files[class_id] = []\n",
    "    class_files[class_id].append(file)\n",
    "\n",
    "for class_id in class_files:\n",
    "    np.random.shuffle(class_files[class_id])\n",
    "    test_files += class_files[class_id][:items_per_class]   \n",
    "    val_files += class_files[class_id][items_per_class:2*items_per_class]\n",
    "    train_files += class_files[class_id][2*items_per_class:]       \n",
    "    \n",
    "\n",
    "#Check if there is not overlap between the sets\n",
    "assert len(set(train_files).intersection(set(val_files))) == 0\n",
    "assert len(set(train_files).intersection(set(test_files))) == 0\n",
    "assert len(set(val_files).intersection(set(test_files))) == 0\n",
    "\n",
    "print(len(train_files), len(val_files), len(test_files))"
   ]
  },
  {
   "cell_type": "code",
   "execution_count": 7,
   "metadata": {},
   "outputs": [
    {
     "data": {
      "image/png": "[encoded data removed]",
      "text/plain": [
       "<Figure size 640x480 with 3 Axes>"
      ]
     },
     "metadata": {},
     "output_type": "display_data"
    }
   ],
   "source": [
    "#Display class distribution in each set\n",
    "train_class_distribution = [extract_class_id(file) for file in train_files]\n",
    "val_class_distribution = [extract_class_id(file) for file in val_files]\n",
    "test_class_distribution = [extract_class_id(file) for file in test_files]\n",
    "\n",
    "\n",
    "fig, axs = plt.subplots(3)\n",
    "fig.suptitle('Class distribution in each set (train-val-test)')\n",
    "axs[0].hist(train_class_distribution, bins=100)\n",
    "axs[1].hist(val_class_distribution, bins=100)\n",
    "axs[2].hist(test_class_distribution, bins=100)\n",
    "plt.savefig(os.path.join(output_path, \"class_distribution.png\"))"
   ]
  },
  {
   "cell_type": "code",
   "execution_count": 8,
   "metadata": {},
   "outputs": [],
   "source": [
    "class Car_Dataset(Dataset):\n",
    "    def __init__(self, data_dir, files, split = \"train\"):\n",
    "        self.data_dir = data_dir\n",
    "        self.data = files\n",
    "\n",
    "        if split == \"train\":\n",
    "            self.transform = transforms.Compose([\n",
    "                transforms.Resize(299),\n",
    "                transforms.CenterCrop(299),\n",
    "                transforms.RandomHorizontalFlip(),\n",
    "                transforms.RandomRotation(10),\n",
    "                transforms.ToTensor(),\n",
    "                transforms.Normalize(mean=[0.485, 0.456, 0.406],\n",
    "                        std=[0.229, 0.224, 0.225] )\n",
    "            ])\n",
    "        else:\n",
    "            self.transform = transforms.Compose([\n",
    "                transforms.Resize(299),\n",
    "                transforms.CenterCrop(299),\n",
    "                transforms.ToTensor(),            \n",
    "                transforms.Normalize(mean=[0.485, 0.456, 0.406],\n",
    "                        std=[0.229, 0.224, 0.225] )\n",
    "                ])\n",
    "    \n",
    "    def __len__(self):\n",
    "        return len(self.data)\n",
    "\n",
    "    def __getitem__(self, idx):\n",
    "        file = self.data[idx]\n",
    "        label = file.split('_')[0] + file.split('_')[1]\n",
    "        label = int(label)\n",
    "        label = torch.eye(100)[label]\n",
    "        \n",
    "        img = Image.open(os.path.join(self.data_dir, file)).convert('RGB')\n",
    "        img = self.transform(img)\n",
    "\n",
    "        return {\"image\" : img, \"label\" : label}"
   ]
  },
  {
   "cell_type": "code",
   "execution_count": 9,
   "metadata": {},
   "outputs": [],
   "source": [
    "train_dataset = Car_Dataset(data_dir, train_files, split = \"train\")\n",
    "val_dataset = Car_Dataset(data_dir, val_files, split = \"val\")\n",
    "test_dataset = Car_Dataset(data_dir, test_files, split = \"test\")"
   ]
  },
  {
   "cell_type": "code",
   "execution_count": 10,
   "metadata": {},
   "outputs": [],
   "source": [
    "train_dataloader = DataLoader(train_dataset, batch_size=4, shuffle=True)\n",
    "val_dataloader = DataLoader(val_dataset, batch_size=4, shuffle=True)\n",
    "test_dataloader = DataLoader(test_dataset, batch_size=4, shuffle=True)"
   ]
  },
  {
   "cell_type": "code",
   "execution_count": 11,
   "metadata": {},
   "outputs": [
    {
     "name": "stderr",
     "output_type": "stream",
     "text": [
      "model.safetensors: 100%|██████████| 171M/171M [00:02<00:00, 58.0MB/s] \n",
      "c:\\Users\\cleme\\AppData\\Local\\Programs\\Python\\Python310\\lib\\site-packages\\huggingface_hub\\file_download.py:149: UserWarning: `huggingface_hub` cache-system uses symlinks by default to efficiently store duplicated files but your machine does not support them in C:\\Users\\cleme\\.cache\\huggingface\\hub\\models--timm--inception_v4.tf_in1k. Caching files will still work but in a degraded version that might require more space on your disk. This warning can be disabled by setting the `HF_HUB_DISABLE_SYMLINKS_WARNING` environment variable. For more details, see https://huggingface.co/docs/huggingface_hub/how-to-cache#limitations.\n",
      "To support symlinks on Windows, you either need to activate Developer Mode or to run Python as an administrator. In order to see activate developer mode, see this article: https://docs.microsoft.com/en-us/windows/apps/get-started/enable-your-device-for-development\n",
      "  warnings.warn(message)\n"
     ]
    }
   ],
   "source": [
    "#load model inceptionv4\n",
    "model = timm.create_model('inception_v4', pretrained=True, num_classes=100).to(device)\n",
    "for param in model.parameters():\n",
    "    param.requires_grad = False"
   ]
  },
  {
   "cell_type": "code",
   "execution_count": 12,
   "metadata": {},
   "outputs": [],
   "source": [
    "def evaluate(dataloader, model, loss_fn):\n",
    "    model.eval()\n",
    "    predicted_labels = []\n",
    "    true_labels = []\n",
    "    losses = []\n",
    "    with torch.no_grad():\n",
    "        for data in dataloader:\n",
    "            X, y = data['image'], data['label']\n",
    "            pred = model(X.to(device))\n",
    "            loss = loss_fn(pred, y.to(device))\n",
    "            predicted_labels.extend(pred.argmax(1).tolist())\n",
    "            true_labels.extend(y.argmax(1).tolist())\n",
    "            losses.append(loss.item())\n",
    "    \n",
    "    return np.array(predicted_labels), np.array(true_labels), np.mean(losses)"
   ]
  },
  {
   "cell_type": "code",
   "execution_count": 13,
   "metadata": {},
   "outputs": [],
   "source": [
    "def train_loop(train_loader, val_loader, model, loss_fn, optimizer, n_epoch, patience=5):\n",
    "    training_losses = []\n",
    "    validation_losses = []\n",
    "    training_accuracies = []\n",
    "    validation_accuracies = []\n",
    "    print(\"Training model...\")\n",
    "    best_val_metric = 0\n",
    "    patience_counter = 0\n",
    "    best_model = model\n",
    "    for epoch in tqdm(range(n_epoch)):\n",
    "        model.train()\n",
    "        for data in train_loader:\n",
    "            X, y = data['image'], data['label']\n",
    "            pred = model(X.to(device))\n",
    "            loss = loss_fn(pred, y.to(device))        \n",
    "            optimizer.zero_grad()\n",
    "            loss.backward()\n",
    "            optimizer.step()\n",
    "\n",
    "        predicted_labels, true_labels, train_loss = evaluate(train_loader, model, loss_fn)\n",
    "        print(\"Epoch: \", epoch, \" Training Loss: \", train_loss)\n",
    "        print(\"Epoch: \", epoch, \" Training Accuracy: \", np.mean(predicted_labels == true_labels))\n",
    "        training_losses.append(train_loss)\n",
    "        training_accuracies.append(np.mean(predicted_labels == true_labels))\n",
    "        \n",
    "        predicted_labels, true_labels, val_loss = evaluate(val_loader, model, loss_fn)\n",
    "        print(\"Epoch: \", epoch, \" Validation Loss: \", val_loss)\n",
    "        print(\"Epoch: \", epoch, \" Validation Accuracy: \", np.mean(predicted_labels == true_labels))\n",
    "        validation_losses.append(val_loss)\n",
    "        validation_accuracies.append(np.mean(predicted_labels == true_labels))\n",
    "\n",
    "        if np.mean(predicted_labels == true_labels) > best_val_metric:\n",
    "            best_val_metric = np.mean(predicted_labels == true_labels)\n",
    "            best_model = model\n",
    "            patience_counter = 0\n",
    "        else:\n",
    "            patience_counter += 1\n",
    "            if patience_counter == patience:\n",
    "                print(\"Early stopping...\")\n",
    "                break\n",
    "\n",
    "    #Save model\n",
    "    return best_model, training_losses, validation_losses, training_accuracies, validation_accuracies"
   ]
  },
  {
   "cell_type": "code",
   "execution_count": 14,
   "metadata": {},
   "outputs": [
    {
     "name": "stdout",
     "output_type": "stream",
     "text": [
      "Step 2 training\n",
      "Training model...\n"
     ]
    },
    {
     "name": "stderr",
     "output_type": "stream",
     "text": [
      "  0%|          | 0/100 [00:00<?, ?it/s]c:\\Users\\cleme\\AppData\\Local\\Programs\\Python\\Python310\\lib\\site-packages\\PIL\\Image.py:975: UserWarning: Palette images with Transparency expressed in bytes should be converted to RGBA images\n",
      "  warnings.warn(\n"
     ]
    },
    {
     "name": "stdout",
     "output_type": "stream",
     "text": [
      "Epoch:  0  Training Loss:  2.0608146229207547\n",
      "Epoch:  0  Training Accuracy:  0.39429634221946686\n"
     ]
    },
    {
     "name": "stderr",
     "output_type": "stream",
     "text": [
      "  1%|          | 1/100 [08:17<13:41:31, 497.89s/it]"
     ]
    },
    {
     "name": "stdout",
     "output_type": "stream",
     "text": [
      "Epoch:  0  Validation Loss:  2.3220170638213555\n",
      "Epoch:  0  Validation Accuracy:  0.33541666666666664\n",
      "Epoch:  1  Training Loss:  1.0161560069500428\n",
      "Epoch:  1  Training Accuracy:  0.6522008679479231\n"
     ]
    },
    {
     "name": "stderr",
     "output_type": "stream",
     "text": [
      "  2%|▏         | 2/100 [16:39<13:36:25, 499.86s/it]"
     ]
    },
    {
     "name": "stdout",
     "output_type": "stream",
     "text": [
      "Epoch:  1  Validation Loss:  1.371999480513235\n",
      "Epoch:  1  Validation Accuracy:  0.5520833333333334\n",
      "Epoch:  2  Training Loss:  1.8587952943601913\n",
      "Epoch:  2  Training Accuracy:  0.6982021078735275\n"
     ]
    },
    {
     "name": "stderr",
     "output_type": "stream",
     "text": [
      "  3%|▎         | 3/100 [24:58<13:27:51, 499.71s/it]"
     ]
    },
    {
     "name": "stdout",
     "output_type": "stream",
     "text": [
      "Epoch:  2  Validation Loss:  1.061577239628726\n",
      "Epoch:  2  Validation Accuracy:  0.68125\n",
      "Epoch:  3  Training Loss:  0.5466642279968593\n",
      "Epoch:  3  Training Accuracy:  0.8188468691878488\n"
     ]
    },
    {
     "name": "stderr",
     "output_type": "stream",
     "text": [
      "  4%|▍         | 4/100 [33:18<13:19:44, 499.84s/it]"
     ]
    },
    {
     "name": "stdout",
     "output_type": "stream",
     "text": [
      "Epoch:  3  Validation Loss:  0.9606437684615988\n",
      "Epoch:  3  Validation Accuracy:  0.7375\n",
      "Epoch:  4  Training Loss:  0.42253749930288037\n",
      "Epoch:  4  Training Accuracy:  0.8550526968381897\n"
     ]
    },
    {
     "name": "stderr",
     "output_type": "stream",
     "text": [
      "  5%|▌         | 5/100 [41:38<13:11:33, 499.93s/it]"
     ]
    },
    {
     "name": "stdout",
     "output_type": "stream",
     "text": [
      "Epoch:  4  Validation Loss:  0.7866141328961628\n",
      "Epoch:  4  Validation Accuracy:  0.7677083333333333\n",
      "Epoch:  5  Training Loss:  0.3529128796075291\n",
      "Epoch:  5  Training Accuracy:  0.886050836949783\n"
     ]
    },
    {
     "name": "stderr",
     "output_type": "stream",
     "text": [
      "  6%|▌         | 6/100 [49:58<13:03:03, 499.82s/it]"
     ]
    },
    {
     "name": "stdout",
     "output_type": "stream",
     "text": [
      "Epoch:  5  Validation Loss:  0.8465139787736268\n",
      "Epoch:  5  Validation Accuracy:  0.7802083333333333\n",
      "Epoch:  6  Training Loss:  0.27416871414803523\n",
      "Epoch:  6  Training Accuracy:  0.9055176689398636\n"
     ]
    },
    {
     "name": "stderr",
     "output_type": "stream",
     "text": [
      "  7%|▋         | 7/100 [58:24<12:57:47, 501.80s/it]"
     ]
    },
    {
     "name": "stdout",
     "output_type": "stream",
     "text": [
      "Epoch:  6  Validation Loss:  0.7818356594867472\n",
      "Epoch:  6  Validation Accuracy:  0.7947916666666667\n",
      "Epoch:  7  Training Loss:  0.629048435141839\n",
      "Epoch:  7  Training Accuracy:  0.8400495970241786\n"
     ]
    },
    {
     "name": "stderr",
     "output_type": "stream",
     "text": [
      "  8%|▊         | 8/100 [1:06:41<12:47:11, 500.35s/it]"
     ]
    },
    {
     "name": "stdout",
     "output_type": "stream",
     "text": [
      "Epoch:  7  Validation Loss:  0.9802284393133703\n",
      "Epoch:  7  Validation Accuracy:  0.7770833333333333\n",
      "Epoch:  8  Training Loss:  0.2034047881190962\n",
      "Epoch:  8  Training Accuracy:  0.9288282703037818\n"
     ]
    },
    {
     "name": "stderr",
     "output_type": "stream",
     "text": [
      "  9%|▉         | 9/100 [1:14:57<12:36:59, 499.11s/it]"
     ]
    },
    {
     "name": "stdout",
     "output_type": "stream",
     "text": [
      "Epoch:  8  Validation Loss:  0.7524650450613516\n",
      "Epoch:  8  Validation Accuracy:  0.8020833333333334\n",
      "Epoch:  9  Training Loss:  0.21482055367134348\n",
      "Epoch:  9  Training Accuracy:  0.9313081215127093\n"
     ]
    },
    {
     "name": "stderr",
     "output_type": "stream",
     "text": [
      " 10%|█         | 10/100 [1:23:13<12:27:14, 498.16s/it]"
     ]
    },
    {
     "name": "stdout",
     "output_type": "stream",
     "text": [
      "Epoch:  9  Validation Loss:  0.7191547779202987\n",
      "Epoch:  9  Validation Accuracy:  0.8125\n",
      "Epoch:  10  Training Loss:  0.2751649351388279\n",
      "Epoch:  10  Training Accuracy:  0.9186608803471792\n"
     ]
    },
    {
     "name": "stderr",
     "output_type": "stream",
     "text": [
      " 11%|█         | 11/100 [1:31:30<12:18:14, 497.69s/it]"
     ]
    },
    {
     "name": "stdout",
     "output_type": "stream",
     "text": [
      "Epoch:  10  Validation Loss:  0.7914037230732068\n",
      "Epoch:  10  Validation Accuracy:  0.809375\n",
      "Epoch:  11  Training Loss:  0.2393959892675873\n",
      "Epoch:  11  Training Accuracy:  0.9311841289522629\n"
     ]
    },
    {
     "name": "stderr",
     "output_type": "stream",
     "text": [
      " 12%|█▏        | 12/100 [1:39:47<12:09:24, 497.32s/it]"
     ]
    },
    {
     "name": "stdout",
     "output_type": "stream",
     "text": [
      "Epoch:  11  Validation Loss:  0.8424074071817993\n",
      "Epoch:  11  Validation Accuracy:  0.81875\n",
      "Epoch:  12  Training Loss:  0.22139217807620706\n",
      "Epoch:  12  Training Accuracy:  0.936887786732796\n"
     ]
    },
    {
     "name": "stderr",
     "output_type": "stream",
     "text": [
      " 13%|█▎        | 13/100 [1:48:03<12:00:35, 496.96s/it]"
     ]
    },
    {
     "name": "stdout",
     "output_type": "stream",
     "text": [
      "Epoch:  12  Validation Loss:  0.6920038763668097\n",
      "Epoch:  12  Validation Accuracy:  0.8375\n",
      "Epoch:  13  Training Loss:  0.19355610286375494\n",
      "Epoch:  13  Training Accuracy:  0.9407315561066336\n"
     ]
    },
    {
     "name": "stderr",
     "output_type": "stream",
     "text": [
      " 14%|█▍        | 14/100 [1:56:14<11:49:50, 495.24s/it]"
     ]
    },
    {
     "name": "stdout",
     "output_type": "stream",
     "text": [
      "Epoch:  13  Validation Loss:  0.7146378562197422\n",
      "Epoch:  13  Validation Accuracy:  0.84375\n",
      "Epoch:  14  Training Loss:  0.15644319113477112\n",
      "Epoch:  14  Training Accuracy:  0.9518908865468072\n"
     ]
    },
    {
     "name": "stderr",
     "output_type": "stream",
     "text": [
      " 15%|█▌        | 15/100 [2:03:57<11:27:48, 485.52s/it]"
     ]
    },
    {
     "name": "stdout",
     "output_type": "stream",
     "text": [
      "Epoch:  14  Validation Loss:  0.7839272589225923\n",
      "Epoch:  14  Validation Accuracy:  0.83125\n",
      "Epoch:  15  Training Loss:  0.14885005452928\n",
      "Epoch:  15  Training Accuracy:  0.9521388716677\n"
     ]
    },
    {
     "name": "stderr",
     "output_type": "stream",
     "text": [
      " 16%|█▌        | 16/100 [2:11:40<11:10:12, 478.72s/it]"
     ]
    },
    {
     "name": "stdout",
     "output_type": "stream",
     "text": [
      "Epoch:  15  Validation Loss:  0.7281009328503653\n",
      "Epoch:  15  Validation Accuracy:  0.8427083333333333\n",
      "Epoch:  16  Training Loss:  3.738447788922329\n",
      "Epoch:  16  Training Accuracy:  0.8679479231246126\n"
     ]
    },
    {
     "name": "stderr",
     "output_type": "stream",
     "text": [
      " 17%|█▋        | 17/100 [2:19:23<10:55:41, 474.00s/it]"
     ]
    },
    {
     "name": "stdout",
     "output_type": "stream",
     "text": [
      "Epoch:  16  Validation Loss:  1.5488407200924474\n",
      "Epoch:  16  Validation Accuracy:  0.80625\n",
      "Epoch:  17  Training Loss:  0.1835563146662435\n",
      "Epoch:  17  Training Accuracy:  0.9533787972721637\n"
     ]
    },
    {
     "name": "stderr",
     "output_type": "stream",
     "text": [
      " 18%|█▊        | 18/100 [2:27:06<10:43:15, 470.67s/it]"
     ]
    },
    {
     "name": "stdout",
     "output_type": "stream",
     "text": [
      "Epoch:  17  Validation Loss:  0.8863300803849266\n",
      "Epoch:  17  Validation Accuracy:  0.83125\n",
      "Epoch:  18  Training Loss:  0.7439696375128948\n",
      "Epoch:  18  Training Accuracy:  0.9243645381277124\n"
     ]
    },
    {
     "name": "stderr",
     "output_type": "stream",
     "text": [
      " 19%|█▉        | 19/100 [2:34:49<10:32:13, 468.31s/it]"
     ]
    },
    {
     "name": "stdout",
     "output_type": "stream",
     "text": [
      "Epoch:  18  Validation Loss:  1.5847776399415616\n",
      "Epoch:  18  Validation Accuracy:  0.8052083333333333\n",
      "Epoch:  19  Training Loss:  0.14051780124790333\n",
      "Epoch:  19  Training Accuracy:  0.9616862988220707\n"
     ]
    },
    {
     "name": "stderr",
     "output_type": "stream",
     "text": [
      " 20%|██        | 20/100 [2:42:32<10:22:20, 466.76s/it]"
     ]
    },
    {
     "name": "stdout",
     "output_type": "stream",
     "text": [
      "Epoch:  19  Validation Loss:  0.7273408068668483\n",
      "Epoch:  19  Validation Accuracy:  0.8385416666666666\n",
      "Epoch:  20  Training Loss:  0.22017004837700702\n",
      "Epoch:  20  Training Accuracy:  0.943831370117793\n"
     ]
    },
    {
     "name": "stderr",
     "output_type": "stream",
     "text": [
      " 21%|██        | 21/100 [2:50:15<10:13:04, 465.62s/it]"
     ]
    },
    {
     "name": "stdout",
     "output_type": "stream",
     "text": [
      "Epoch:  20  Validation Loss:  0.8686118255928695\n",
      "Epoch:  20  Validation Accuracy:  0.80625\n",
      "Epoch:  21  Training Loss:  0.10697647367807195\n",
      "Epoch:  21  Training Accuracy:  0.967761934283943\n"
     ]
    },
    {
     "name": "stderr",
     "output_type": "stream",
     "text": [
      " 22%|██▏       | 22/100 [2:57:58<10:04:22, 464.90s/it]"
     ]
    },
    {
     "name": "stdout",
     "output_type": "stream",
     "text": [
      "Epoch:  21  Validation Loss:  0.6671675852193353\n",
      "Epoch:  21  Validation Accuracy:  0.8541666666666666\n",
      "Epoch:  22  Training Loss:  0.12455654261219613\n",
      "Epoch:  22  Training Accuracy:  0.9660260384376937\n"
     ]
    },
    {
     "name": "stderr",
     "output_type": "stream",
     "text": [
      " 23%|██▎       | 23/100 [3:05:40<9:55:43, 464.19s/it] "
     ]
    },
    {
     "name": "stdout",
     "output_type": "stream",
     "text": [
      "Epoch:  22  Validation Loss:  0.7056861679300968\n",
      "Epoch:  22  Validation Accuracy:  0.853125\n",
      "Epoch:  23  Training Loss:  0.658978072819454\n",
      "Epoch:  23  Training Accuracy:  0.9172969621822691\n"
     ]
    },
    {
     "name": "stderr",
     "output_type": "stream",
     "text": [
      " 24%|██▍       | 24/100 [3:13:24<9:47:39, 463.94s/it]"
     ]
    },
    {
     "name": "stdout",
     "output_type": "stream",
     "text": [
      "Epoch:  23  Validation Loss:  1.2463643949973615\n",
      "Epoch:  23  Validation Accuracy:  0.790625\n",
      "Epoch:  24  Training Loss:  0.12808001606461317\n",
      "Epoch:  24  Training Accuracy:  0.9599504029758215\n"
     ]
    },
    {
     "name": "stderr",
     "output_type": "stream",
     "text": [
      " 25%|██▌       | 25/100 [3:21:07<9:39:34, 463.66s/it]"
     ]
    },
    {
     "name": "stdout",
     "output_type": "stream",
     "text": [
      "Epoch:  24  Validation Loss:  0.7633342416501451\n",
      "Epoch:  24  Validation Accuracy:  0.8385416666666666\n",
      "Epoch:  25  Training Loss:  0.10041991427029197\n",
      "Epoch:  25  Training Accuracy:  0.971109733415995\n"
     ]
    },
    {
     "name": "stderr",
     "output_type": "stream",
     "text": [
      " 26%|██▌       | 26/100 [3:28:50<9:31:39, 463.50s/it]"
     ]
    },
    {
     "name": "stdout",
     "output_type": "stream",
     "text": [
      "Epoch:  25  Validation Loss:  0.7707324461231262\n",
      "Epoch:  25  Validation Accuracy:  0.8458333333333333\n",
      "Epoch:  26  Training Loss:  0.10170626988308369\n",
      "Epoch:  26  Training Accuracy:  0.9703657780533168\n"
     ]
    },
    {
     "name": "stderr",
     "output_type": "stream",
     "text": [
      " 27%|██▋       | 27/100 [3:36:33<9:23:50, 463.43s/it]"
     ]
    },
    {
     "name": "stdout",
     "output_type": "stream",
     "text": [
      "Epoch:  26  Validation Loss:  0.7476005270115251\n",
      "Epoch:  26  Validation Accuracy:  0.8395833333333333\n",
      "Epoch:  27  Training Loss:  0.5105545071543491\n",
      "Epoch:  27  Training Accuracy:  0.9377557346559207\n"
     ]
    },
    {
     "name": "stderr",
     "output_type": "stream",
     "text": [
      " 28%|██▊       | 28/100 [3:44:16<9:16:02, 463.37s/it]"
     ]
    },
    {
     "name": "stdout",
     "output_type": "stream",
     "text": [
      "Epoch:  27  Validation Loss:  1.0894623247059505\n",
      "Epoch:  27  Validation Accuracy:  0.8177083333333334\n",
      "Epoch:  28  Training Loss:  0.152887003541568\n",
      "Epoch:  28  Training Accuracy:  0.960446373217607\n"
     ]
    },
    {
     "name": "stderr",
     "output_type": "stream",
     "text": [
      " 29%|██▉       | 29/100 [3:51:59<9:08:10, 463.24s/it]"
     ]
    },
    {
     "name": "stdout",
     "output_type": "stream",
     "text": [
      "Epoch:  28  Validation Loss:  0.8712023392261619\n",
      "Epoch:  28  Validation Accuracy:  0.8364583333333333\n",
      "Epoch:  29  Training Loss:  0.06334749642861352\n",
      "Epoch:  29  Training Accuracy:  0.9807811531308122\n"
     ]
    },
    {
     "name": "stderr",
     "output_type": "stream",
     "text": [
      " 30%|███       | 30/100 [3:59:42<9:00:20, 463.15s/it]"
     ]
    },
    {
     "name": "stdout",
     "output_type": "stream",
     "text": [
      "Epoch:  29  Validation Loss:  0.6373163319183656\n",
      "Epoch:  29  Validation Accuracy:  0.8583333333333333\n",
      "Epoch:  30  Training Loss:  0.10806866293730852\n",
      "Epoch:  30  Training Accuracy:  0.9676379417234966\n"
     ]
    },
    {
     "name": "stderr",
     "output_type": "stream",
     "text": [
      " 31%|███       | 31/100 [4:07:26<8:52:43, 463.24s/it]"
     ]
    },
    {
     "name": "stdout",
     "output_type": "stream",
     "text": [
      "Epoch:  30  Validation Loss:  0.7587874514060649\n",
      "Epoch:  30  Validation Accuracy:  0.8364583333333333\n",
      "Epoch:  31  Training Loss:  0.0523903011568289\n",
      "Epoch:  31  Training Accuracy:  0.9841289522628642\n"
     ]
    },
    {
     "name": "stderr",
     "output_type": "stream",
     "text": [
      " 32%|███▏      | 32/100 [4:15:09<8:45:01, 463.26s/it]"
     ]
    },
    {
     "name": "stdout",
     "output_type": "stream",
     "text": [
      "Epoch:  31  Validation Loss:  0.596688826842805\n",
      "Epoch:  31  Validation Accuracy:  0.871875\n",
      "Epoch:  32  Training Loss:  0.07391660996933654\n",
      "Epoch:  32  Training Accuracy:  0.9789212647241166\n"
     ]
    },
    {
     "name": "stderr",
     "output_type": "stream",
     "text": [
      " 33%|███▎      | 33/100 [4:22:53<8:37:27, 463.40s/it]"
     ]
    },
    {
     "name": "stdout",
     "output_type": "stream",
     "text": [
      "Epoch:  32  Validation Loss:  0.6948059485789388\n",
      "Epoch:  32  Validation Accuracy:  0.8489583333333334\n",
      "Epoch:  33  Training Loss:  0.16379115827315077\n",
      "Epoch:  33  Training Accuracy:  0.9616862988220707\n"
     ]
    },
    {
     "name": "stderr",
     "output_type": "stream",
     "text": [
      " 34%|███▍      | 34/100 [4:30:36<8:29:47, 463.45s/it]"
     ]
    },
    {
     "name": "stdout",
     "output_type": "stream",
     "text": [
      "Epoch:  33  Validation Loss:  0.7320933777334298\n",
      "Epoch:  33  Validation Accuracy:  0.8447916666666667\n",
      "Epoch:  34  Training Loss:  0.08091477205564475\n",
      "Epoch:  34  Training Accuracy:  0.9743335399876007\n"
     ]
    },
    {
     "name": "stderr",
     "output_type": "stream",
     "text": [
      " 35%|███▌      | 35/100 [4:38:20<8:22:03, 463.44s/it]"
     ]
    },
    {
     "name": "stdout",
     "output_type": "stream",
     "text": [
      "Epoch:  34  Validation Loss:  0.7339684391361971\n",
      "Epoch:  34  Validation Accuracy:  0.8479166666666667\n",
      "Epoch:  35  Training Loss:  0.11671447283178554\n",
      "Epoch:  35  Training Accuracy:  0.9681339119652821\n"
     ]
    },
    {
     "name": "stderr",
     "output_type": "stream",
     "text": [
      " 36%|███▌      | 36/100 [4:46:03<8:14:23, 463.50s/it]"
     ]
    },
    {
     "name": "stdout",
     "output_type": "stream",
     "text": [
      "Epoch:  35  Validation Loss:  0.702102417494677\n",
      "Epoch:  35  Validation Accuracy:  0.859375\n",
      "Epoch:  36  Training Loss:  0.09647803658167725\n",
      "Epoch:  36  Training Accuracy:  0.974085554866708\n"
     ]
    },
    {
     "name": "stderr",
     "output_type": "stream",
     "text": [
      " 37%|███▋      | 37/100 [4:53:47<8:06:46, 463.60s/it]"
     ]
    },
    {
     "name": "stdout",
     "output_type": "stream",
     "text": [
      "Epoch:  36  Validation Loss:  0.7453599904807054\n",
      "Epoch:  36  Validation Accuracy:  0.853125\n",
      "Epoch:  37  Training Loss:  1.9509632458472126\n",
      "Epoch:  37  Training Accuracy:  0.8820830750154991\n"
     ]
    },
    {
     "name": "stderr",
     "output_type": "stream",
     "text": [
      " 38%|███▊      | 38/100 [5:01:31<7:59:08, 463.68s/it]"
     ]
    },
    {
     "name": "stdout",
     "output_type": "stream",
     "text": [
      "Epoch:  37  Validation Loss:  2.91013016924018\n",
      "Epoch:  37  Validation Accuracy:  0.7635416666666667\n",
      "Epoch:  38  Training Loss:  0.8566559222231066\n",
      "Epoch:  38  Training Accuracy:  0.9185368877867328\n"
     ]
    },
    {
     "name": "stderr",
     "output_type": "stream",
     "text": [
      " 39%|███▉      | 39/100 [5:09:15<7:51:19, 463.61s/it]"
     ]
    },
    {
     "name": "stdout",
     "output_type": "stream",
     "text": [
      "Epoch:  38  Validation Loss:  2.183754358102582\n",
      "Epoch:  38  Validation Accuracy:  0.7708333333333334\n",
      "Epoch:  39  Training Loss:  0.08054301046714347\n",
      "Epoch:  39  Training Accuracy:  0.9761934283942963\n"
     ]
    },
    {
     "name": "stderr",
     "output_type": "stream",
     "text": [
      " 40%|████      | 40/100 [5:16:58<7:43:35, 463.59s/it]"
     ]
    },
    {
     "name": "stdout",
     "output_type": "stream",
     "text": [
      "Epoch:  39  Validation Loss:  0.6672593002367967\n",
      "Epoch:  39  Validation Accuracy:  0.8645833333333334\n",
      "Epoch:  40  Training Loss:  0.05788300577594545\n",
      "Epoch:  40  Training Accuracy:  0.9802851828890267\n"
     ]
    },
    {
     "name": "stderr",
     "output_type": "stream",
     "text": [
      " 41%|████      | 41/100 [5:24:41<7:35:45, 463.49s/it]"
     ]
    },
    {
     "name": "stdout",
     "output_type": "stream",
     "text": [
      "Epoch:  40  Validation Loss:  0.7311555803519274\n",
      "Epoch:  40  Validation Accuracy:  0.8510416666666667\n",
      "Epoch:  41  Training Loss:  0.10563201478893186\n",
      "Epoch:  41  Training Accuracy:  0.9698698078115313\n"
     ]
    },
    {
     "name": "stderr",
     "output_type": "stream",
     "text": [
      " 41%|████      | 41/100 [5:32:25<7:58:22, 486.48s/it]"
     ]
    },
    {
     "name": "stdout",
     "output_type": "stream",
     "text": [
      "Epoch:  41  Validation Loss:  0.7602078785992615\n",
      "Epoch:  41  Validation Accuracy:  0.840625\n",
      "Early stopping...\n"
     ]
    },
    {
     "name": "stderr",
     "output_type": "stream",
     "text": [
      "\n"
     ]
    }
   ],
   "source": [
    "for param in model.parameters():\n",
    "    param.requires_grad = True\n",
    "loss_fn = torch.nn.CrossEntropyLoss()\n",
    "optimizer = torch.optim.Adam(model.parameters(), lr=0.0001, weight_decay=0.0001)\n",
    "print(\"Step 2 training\")\n",
    "step2_best_model, step2_training_losses, step2_validation_losses, step2_training_accuracies, step2_validation_accuracies = train_loop(train_dataloader, val_dataloader, model, loss_fn, optimizer, 100, 10)\n",
    "torch.save(step2_best_model.state_dict(), os.path.join(output_path, \"step2_model.pth\"))"
   ]
  },
  {
   "cell_type": "code",
   "execution_count": 15,
   "metadata": {},
   "outputs": [
    {
     "data": {
      "image/png": "[encoded data removed]",
      "text/plain": [
       "<Figure size 640x480 with 1 Axes>"
      ]
     },
     "metadata": {},
     "output_type": "display_data"
    },
    {
     "data": {
      "image/png": "[encoded data removed]",
      "text/plain": [
       "<Figure size 640x480 with 1 Axes>"
      ]
     },
     "metadata": {},
     "output_type": "display_data"
    }
   ],
   "source": [
    "#plot learning curves\n",
    "plt.figure()\n",
    "plt.plot(step2_training_losses, label='Training Loss')\n",
    "plt.plot(step2_validation_losses, label='Validation Loss')\n",
    "plt.legend()\n",
    "plt.savefig(os.path.join(output_path, \"step2_loss.png\"))\n",
    "\n",
    "plt.figure()\n",
    "plt.plot(step2_training_accuracies, label='Training Accuracy')\n",
    "plt.plot(step2_validation_accuracies, label='Validation Accuracy')\n",
    "plt.legend()\n",
    "plt.savefig(os.path.join(output_path, \"step2_accuracy.png\"))"
   ]
  },
  {
   "cell_type": "code",
   "execution_count": 16,
   "metadata": {},
   "outputs": [
    {
     "name": "stdout",
     "output_type": "stream",
     "text": [
      "Test accuracy:  0.8447916666666667\n"
     ]
    }
   ],
   "source": [
    "preds, true, _ = evaluate(test_dataloader, step2_best_model, loss_fn)\n",
    "print(\"Test accuracy: \", np.mean(preds == true))"
   ]
  }
 ],
 "metadata": {
  "kernelspec": {
   "display_name": "MIR",
   "language": "python",
   "name": "python3"
  },
  "language_info": {
   "codemirror_mode": {
    "name": "ipython",
    "version": 3
   },
   "file_extension": ".py",
   "mimetype": "text/x-python",
   "name": "python",
   "nbconvert_exporter": "python",
   "pygments_lexer": "ipython3",
   "version": "3.10.11"
  }
 },
 "nbformat": 4,
 "nbformat_minor": 2
}
