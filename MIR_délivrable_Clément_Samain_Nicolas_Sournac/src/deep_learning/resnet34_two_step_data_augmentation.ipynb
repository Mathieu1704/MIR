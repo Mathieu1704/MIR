{
 "cells": [
  {
   "cell_type": "code",
   "execution_count": 1,
   "metadata": {},
   "outputs": [
    {
     "name": "stderr",
     "output_type": "stream",
     "text": [
      "c:\\Users\\cleme\\AppData\\Local\\Programs\\Python\\Python310\\lib\\site-packages\\tqdm\\auto.py:21: TqdmWarning: IProgress not found. Please update jupyter and ipywidgets. See https://ipywidgets.readthedocs.io/en/stable/user_install.html\n",
      "  from .autonotebook import tqdm as notebook_tqdm\n"
     ]
    }
   ],
   "source": [
    "import os\n",
    "import torch\n",
    "import torchvision\n",
    "\n",
    "import matplotlib.pyplot as plt\n",
    "import numpy as np\n",
    "\n",
    "from torch.utils.data import Dataset, DataLoader\n",
    "from torchvision import transforms, utils\n",
    "from PIL import Image\n",
    "from tqdm import tqdm"
   ]
  },
  {
   "cell_type": "code",
   "execution_count": 2,
   "metadata": {},
   "outputs": [
    {
     "name": "stdout",
     "output_type": "stream",
     "text": [
      "Using device:  cuda\n"
     ]
    }
   ],
   "source": [
    "if torch.backends.mps.is_available():\n",
    "    device = torch.device('mps')\n",
    "elif torch.cuda.is_available():\n",
    "    device = torch.device('cuda')\n",
    "else:\n",
    "    device = torch.device('cpu')\n",
    "print(\"Using device: \", device)"
   ]
  },
  {
   "cell_type": "code",
   "execution_count": 3,
   "metadata": {},
   "outputs": [],
   "source": [
    "def extract_class_id(image_name):\n",
    "    \"\"\"\n",
    "    Image name example:\n",
    "    0_1_BMW_X3_156 => 1\n",
    "    2_4_Volkswagen_Polo_3471 => 24\n",
    "    8_6_Ford_Focus_11936 => 86\n",
    "    \"\"\"\n",
    "    image_name = image_name.split(\"/\")[-1]\n",
    "    image_name = image_name.split(\".\")[0]\n",
    "    return int(image_name.split(\"_\")[0] + image_name.split(\"_\")[1])"
   ]
  },
  {
   "cell_type": "code",
   "execution_count": 4,
   "metadata": {},
   "outputs": [],
   "source": [
    "#Load dataset\n",
    "data_dir = '../../data/dataset'\n",
    "#Set output path\n",
    "output_path = \"../../outputs/resnet34_2_steps_data_augmentation\"\n",
    "if not os.path.exists(output_path):\n",
    "    os.makedirs(output_path)"
   ]
  },
  {
   "cell_type": "code",
   "execution_count": 5,
   "metadata": {},
   "outputs": [
    {
     "name": "stdout",
     "output_type": "stream",
     "text": [
      "8065 960 960\n"
     ]
    }
   ],
   "source": [
    "items_per_class = 10\n",
    "train_files = []\n",
    "val_files = []\n",
    "test_files = []\n",
    "\n",
    "class_files = {}\n",
    "for file in os.listdir(data_dir):\n",
    "    class_id = extract_class_id(file)\n",
    "    if class_id not in class_files:\n",
    "        class_files[class_id] = []\n",
    "    class_files[class_id].append(file)\n",
    "\n",
    "for class_id in class_files:\n",
    "    np.random.shuffle(class_files[class_id])\n",
    "    test_files += class_files[class_id][:items_per_class]   \n",
    "    val_files += class_files[class_id][items_per_class:2*items_per_class]\n",
    "    train_files += class_files[class_id][2*items_per_class:]       \n",
    "    \n",
    "\n",
    "#Check if there is not overlap between the sets\n",
    "assert len(set(train_files).intersection(set(val_files))) == 0\n",
    "assert len(set(train_files).intersection(set(test_files))) == 0\n",
    "assert len(set(val_files).intersection(set(test_files))) == 0\n",
    "\n",
    "print(len(train_files), len(val_files), len(test_files))"
   ]
  },
  {
   "cell_type": "code",
   "execution_count": 6,
   "metadata": {},
   "outputs": [
    {
     "data": {
      "image/png": "[encoded data removed]",
      "text/plain": [
       "<Figure size 640x480 with 3 Axes>"
      ]
     },
     "metadata": {},
     "output_type": "display_data"
    }
   ],
   "source": [
    "#Display class distribution in each set\n",
    "train_class_distribution = [extract_class_id(file) for file in train_files]\n",
    "val_class_distribution = [extract_class_id(file) for file in val_files]\n",
    "test_class_distribution = [extract_class_id(file) for file in test_files]\n",
    "\n",
    "\n",
    "fig, axs = plt.subplots(3)\n",
    "fig.suptitle('Class distribution in each set (train-val-test)')\n",
    "axs[0].hist(train_class_distribution, bins=100)\n",
    "axs[1].hist(val_class_distribution, bins=100)\n",
    "axs[2].hist(test_class_distribution, bins=100)\n",
    "plt.savefig(os.path.join(output_path, \"class_distribution.png\"))"
   ]
  },
  {
   "cell_type": "code",
   "execution_count": 7,
   "metadata": {},
   "outputs": [],
   "source": [
    "class Car_Dataset(Dataset):\n",
    "    def __init__(self, data_dir, files, split = \"train\"):\n",
    "        self.data_dir = data_dir\n",
    "        self.data = files\n",
    "\n",
    "        if split == \"train\":\n",
    "            self.transform = transforms.Compose([\n",
    "                transforms.Resize(256),\n",
    "                transforms.RandomCrop(224),\n",
    "                transforms.RandomHorizontalFlip(),\n",
    "                transforms.RandomRotation(10),\n",
    "                transforms.ToTensor(),\n",
    "                transforms.Normalize((0.5, 0.5, 0.5), (0.5, 0.5, 0.5)),\n",
    "            ])\n",
    "        else:\n",
    "            self.transform = transforms.Compose([\n",
    "                transforms.Resize(224),\n",
    "                transforms.CenterCrop(224),\n",
    "                transforms.ToTensor(),            \n",
    "                transforms.Normalize((0.5, 0.5, 0.5), (0.5, 0.5, 0.5)),\n",
    "                ])\n",
    "    \n",
    "    def __len__(self):\n",
    "        return len(self.data)\n",
    "\n",
    "    def __getitem__(self, idx):\n",
    "        file = self.data[idx]\n",
    "        label = file.split('_')[0] + file.split('_')[1]\n",
    "        label = int(label)\n",
    "        label = torch.eye(100)[label]\n",
    "        \n",
    "        img = Image.open(os.path.join(self.data_dir, file)).convert('RGB')\n",
    "        img = self.transform(img)\n",
    "\n",
    "        return {\"image\" : img, \"label\" : label}"
   ]
  },
  {
   "cell_type": "code",
   "execution_count": 8,
   "metadata": {},
   "outputs": [],
   "source": [
    "train_dataset = Car_Dataset(data_dir, train_files, split = \"train\")\n",
    "val_dataset = Car_Dataset(data_dir, val_files, split = \"val\")\n",
    "test_dataset = Car_Dataset(data_dir, test_files, split = \"test\")"
   ]
  },
  {
   "cell_type": "code",
   "execution_count": 9,
   "metadata": {},
   "outputs": [],
   "source": [
    "train_dataloader = DataLoader(train_dataset, batch_size=4, shuffle=True)\n",
    "val_dataloader = DataLoader(val_dataset, batch_size=4, shuffle=True)\n",
    "test_dataloader = DataLoader(test_dataset, batch_size=4, shuffle=True)"
   ]
  },
  {
   "cell_type": "code",
   "execution_count": 10,
   "metadata": {},
   "outputs": [
    {
     "name": "stderr",
     "output_type": "stream",
     "text": [
      "Using cache found in C:\\Users\\cleme/.cache\\torch\\hub\\pytorch_vision_v0.6.0\n",
      "c:\\Users\\cleme\\AppData\\Local\\Programs\\Python\\Python310\\lib\\site-packages\\torchvision\\models\\_utils.py:208: UserWarning: The parameter 'pretrained' is deprecated since 0.13 and may be removed in the future, please use 'weights' instead.\n",
      "  warnings.warn(\n",
      "c:\\Users\\cleme\\AppData\\Local\\Programs\\Python\\Python310\\lib\\site-packages\\torchvision\\models\\_utils.py:223: UserWarning: Arguments other than a weight enum or `None` for 'weights' are deprecated since 0.13 and may be removed in the future. The current behavior is equivalent to passing `weights=ResNet34_Weights.IMAGENET1K_V1`. You can also use `weights=ResNet34_Weights.DEFAULT` to get the most up-to-date weights.\n",
      "  warnings.warn(msg)\n"
     ]
    }
   ],
   "source": [
    "model = torch.hub.load('pytorch/vision:v0.6.0', 'resnet34', pretrained=True).to(device)\n",
    "model.fc = torch.nn.Linear(512, 100).to(device)\n",
    "for param in model.parameters():\n",
    "    param.requires_grad = False"
   ]
  },
  {
   "cell_type": "code",
   "execution_count": 11,
   "metadata": {},
   "outputs": [],
   "source": [
    "def evaluate(dataloader, model, loss_fn):\n",
    "    model.eval()\n",
    "    predicted_labels = []\n",
    "    true_labels = []\n",
    "    losses = []\n",
    "    with torch.no_grad():\n",
    "        for data in dataloader:\n",
    "            X, y = data['image'], data['label']\n",
    "            pred = model(X.to(device))\n",
    "            loss = loss_fn(pred, y.to(device))\n",
    "            predicted_labels.extend(pred.argmax(1).tolist())\n",
    "            true_labels.extend(y.argmax(1).tolist())\n",
    "            losses.append(loss.item())\n",
    "    \n",
    "    return np.array(predicted_labels), np.array(true_labels), np.mean(losses)"
   ]
  },
  {
   "cell_type": "code",
   "execution_count": 12,
   "metadata": {},
   "outputs": [],
   "source": [
    "def train_loop(train_loader, val_loader, model, loss_fn, optimizer, n_epoch, patience=5):\n",
    "    training_losses = []\n",
    "    validation_losses = []\n",
    "    training_accuracies = []\n",
    "    validation_accuracies = []\n",
    "    print(\"Training model...\")\n",
    "    best_val_metric = 0\n",
    "    patience_counter = 0\n",
    "    best_model = model\n",
    "    for epoch in tqdm(range(n_epoch)):\n",
    "        model.train()\n",
    "        for data in train_loader:\n",
    "            X, y = data['image'], data['label']\n",
    "            pred = model(X.to(device))\n",
    "            #pred = pred.logits #Needed for inception\n",
    "            loss = loss_fn(pred, y.to(device))        \n",
    "            optimizer.zero_grad()\n",
    "            loss.backward()\n",
    "            optimizer.step()\n",
    "\n",
    "        predicted_labels, true_labels, train_loss = evaluate(train_loader, model, loss_fn)\n",
    "        print(\"Epoch: \", epoch, \" Training Loss: \", train_loss)\n",
    "        print(\"Epoch: \", epoch, \" Training Accuracy: \", np.mean(predicted_labels == true_labels))\n",
    "        training_losses.append(train_loss)\n",
    "        training_accuracies.append(np.mean(predicted_labels == true_labels))\n",
    "        \n",
    "        predicted_labels, true_labels, val_loss = evaluate(val_loader, model, loss_fn)\n",
    "        print(\"Epoch: \", epoch, \" Validation Loss: \", val_loss)\n",
    "        print(\"Epoch: \", epoch, \" Validation Accuracy: \", np.mean(predicted_labels == true_labels))\n",
    "        validation_losses.append(val_loss)\n",
    "        validation_accuracies.append(np.mean(predicted_labels == true_labels))\n",
    "\n",
    "        if np.mean(predicted_labels == true_labels) > best_val_metric:\n",
    "            best_val_metric = np.mean(predicted_labels == true_labels)\n",
    "            best_model = model\n",
    "            patience_counter = 0\n",
    "        else:\n",
    "            patience_counter += 1\n",
    "            if patience_counter == patience:\n",
    "                print(\"Early stopping...\")\n",
    "                break\n",
    "\n",
    "    #Save model\n",
    "    return best_model, training_losses, validation_losses, training_accuracies, validation_accuracies"
   ]
  },
  {
   "cell_type": "code",
   "execution_count": 13,
   "metadata": {},
   "outputs": [
    {
     "name": "stdout",
     "output_type": "stream",
     "text": [
      "Step 1 training\n",
      "Training model...\n"
     ]
    },
    {
     "name": "stderr",
     "output_type": "stream",
     "text": [
      "  0%|          | 0/100 [00:00<?, ?it/s]c:\\Users\\cleme\\AppData\\Local\\Programs\\Python\\Python310\\lib\\site-packages\\PIL\\Image.py:975: UserWarning: Palette images with Transparency expressed in bytes should be converted to RGBA images\n",
      "  warnings.warn(\n"
     ]
    },
    {
     "name": "stdout",
     "output_type": "stream",
     "text": [
      "Epoch:  0  Training Loss:  3.7610324718128294\n",
      "Epoch:  0  Training Accuracy:  0.15536267823930563\n"
     ]
    },
    {
     "name": "stderr",
     "output_type": "stream",
     "text": [
      "  1%|          | 1/100 [02:35<4:16:21, 155.37s/it]"
     ]
    },
    {
     "name": "stdout",
     "output_type": "stream",
     "text": [
      "Epoch:  0  Validation Loss:  3.9982121735811234\n",
      "Epoch:  0  Validation Accuracy:  0.10625\n",
      "Epoch:  1  Training Loss:  3.556358150254989\n",
      "Epoch:  1  Training Accuracy:  0.1864848109113453\n"
     ]
    },
    {
     "name": "stderr",
     "output_type": "stream",
     "text": [
      "  2%|▏         | 2/100 [05:11<4:14:54, 156.07s/it]"
     ]
    },
    {
     "name": "stdout",
     "output_type": "stream",
     "text": [
      "Epoch:  1  Validation Loss:  3.9627237901091577\n",
      "Epoch:  1  Validation Accuracy:  0.14375\n",
      "Epoch:  2  Training Loss:  3.3213545530517323\n",
      "Epoch:  2  Training Accuracy:  0.2301301921884687\n"
     ]
    },
    {
     "name": "stderr",
     "output_type": "stream",
     "text": [
      "  3%|▎         | 3/100 [07:50<4:13:57, 157.09s/it]"
     ]
    },
    {
     "name": "stdout",
     "output_type": "stream",
     "text": [
      "Epoch:  2  Validation Loss:  3.8155928805470465\n",
      "Epoch:  2  Validation Accuracy:  0.17291666666666666\n",
      "Epoch:  3  Training Loss:  3.0648179110998437\n",
      "Epoch:  3  Training Accuracy:  0.26447613143211407\n"
     ]
    },
    {
     "name": "stderr",
     "output_type": "stream",
     "text": [
      "  4%|▍         | 4/100 [10:26<4:10:54, 156.82s/it]"
     ]
    },
    {
     "name": "stdout",
     "output_type": "stream",
     "text": [
      "Epoch:  3  Validation Loss:  3.6355190709233285\n",
      "Epoch:  3  Validation Accuracy:  0.17708333333333334\n",
      "Epoch:  4  Training Loss:  3.029469170012448\n",
      "Epoch:  4  Training Accuracy:  0.28158710477371357\n"
     ]
    },
    {
     "name": "stderr",
     "output_type": "stream",
     "text": [
      "  5%|▌         | 5/100 [12:52<4:01:48, 152.72s/it]"
     ]
    },
    {
     "name": "stdout",
     "output_type": "stream",
     "text": [
      "Epoch:  4  Validation Loss:  3.631030855079492\n",
      "Epoch:  4  Validation Accuracy:  0.18333333333333332\n",
      "Epoch:  5  Training Loss:  3.1134323653278813\n",
      "Epoch:  5  Training Accuracy:  0.27042777433354\n"
     ]
    },
    {
     "name": "stderr",
     "output_type": "stream",
     "text": [
      "  6%|▌         | 6/100 [15:16<3:55:01, 150.02s/it]"
     ]
    },
    {
     "name": "stdout",
     "output_type": "stream",
     "text": [
      "Epoch:  5  Validation Loss:  3.7404540151357653\n",
      "Epoch:  5  Validation Accuracy:  0.17708333333333334\n",
      "Epoch:  6  Training Loss:  3.061441880807347\n",
      "Epoch:  6  Training Accuracy:  0.2861748295102294\n"
     ]
    },
    {
     "name": "stderr",
     "output_type": "stream",
     "text": [
      "  7%|▋         | 7/100 [17:42<3:50:08, 148.48s/it]"
     ]
    },
    {
     "name": "stdout",
     "output_type": "stream",
     "text": [
      "Epoch:  6  Validation Loss:  3.6369202320774394\n",
      "Epoch:  6  Validation Accuracy:  0.19166666666666668\n",
      "Epoch:  7  Training Loss:  2.9283982571482245\n",
      "Epoch:  7  Training Accuracy:  0.3050216986980781\n"
     ]
    },
    {
     "name": "stderr",
     "output_type": "stream",
     "text": [
      "  8%|▊         | 8/100 [20:06<3:45:40, 147.18s/it]"
     ]
    },
    {
     "name": "stdout",
     "output_type": "stream",
     "text": [
      "Epoch:  7  Validation Loss:  3.6974456533789635\n",
      "Epoch:  7  Validation Accuracy:  0.18854166666666666\n",
      "Epoch:  8  Training Loss:  2.978879684526021\n",
      "Epoch:  8  Training Accuracy:  0.30291382517048976\n"
     ]
    },
    {
     "name": "stderr",
     "output_type": "stream",
     "text": [
      "  9%|▉         | 9/100 [22:31<3:42:00, 146.38s/it]"
     ]
    },
    {
     "name": "stdout",
     "output_type": "stream",
     "text": [
      "Epoch:  8  Validation Loss:  3.6874377496540545\n",
      "Epoch:  8  Validation Accuracy:  0.22604166666666667\n",
      "Epoch:  9  Training Loss:  2.9331084606697138\n",
      "Epoch:  9  Training Accuracy:  0.3226286422814631\n"
     ]
    },
    {
     "name": "stderr",
     "output_type": "stream",
     "text": [
      " 10%|█         | 10/100 [24:55<3:38:44, 145.83s/it]"
     ]
    },
    {
     "name": "stdout",
     "output_type": "stream",
     "text": [
      "Epoch:  9  Validation Loss:  3.6282360506554445\n",
      "Epoch:  9  Validation Accuracy:  0.21458333333333332\n",
      "Epoch:  10  Training Loss:  2.899347768822222\n",
      "Epoch:  10  Training Accuracy:  0.3161810291382517\n"
     ]
    },
    {
     "name": "stderr",
     "output_type": "stream",
     "text": [
      " 11%|█         | 11/100 [27:20<3:35:48, 145.49s/it]"
     ]
    },
    {
     "name": "stdout",
     "output_type": "stream",
     "text": [
      "Epoch:  10  Validation Loss:  3.7430980771780016\n",
      "Epoch:  10  Validation Accuracy:  0.21458333333333332\n",
      "Epoch:  11  Training Loss:  2.8775446782415908\n",
      "Epoch:  11  Training Accuracy:  0.32523248605083693\n"
     ]
    },
    {
     "name": "stderr",
     "output_type": "stream",
     "text": [
      " 12%|█▏        | 12/100 [29:44<3:32:55, 145.18s/it]"
     ]
    },
    {
     "name": "stdout",
     "output_type": "stream",
     "text": [
      "Epoch:  11  Validation Loss:  3.5764251408477623\n",
      "Epoch:  11  Validation Accuracy:  0.221875\n",
      "Epoch:  12  Training Loss:  2.8588967730194685\n",
      "Epoch:  12  Training Accuracy:  0.3407315561066336\n"
     ]
    },
    {
     "name": "stderr",
     "output_type": "stream",
     "text": [
      " 13%|█▎        | 13/100 [32:09<3:30:16, 145.01s/it]"
     ]
    },
    {
     "name": "stdout",
     "output_type": "stream",
     "text": [
      "Epoch:  12  Validation Loss:  3.814033637444178\n",
      "Epoch:  12  Validation Accuracy:  0.21770833333333334\n",
      "Epoch:  13  Training Loss:  2.832896920271037\n",
      "Epoch:  13  Training Accuracy:  0.3323000619962802\n"
     ]
    },
    {
     "name": "stderr",
     "output_type": "stream",
     "text": [
      " 13%|█▎        | 13/100 [34:35<3:51:28, 159.64s/it]"
     ]
    },
    {
     "name": "stdout",
     "output_type": "stream",
     "text": [
      "Epoch:  13  Validation Loss:  3.794285098214944\n",
      "Epoch:  13  Validation Accuracy:  0.2125\n",
      "Early stopping...\n"
     ]
    },
    {
     "name": "stderr",
     "output_type": "stream",
     "text": [
      "\n"
     ]
    }
   ],
   "source": [
    "loss_fn = torch.nn.CrossEntropyLoss()\n",
    "optimizer = torch.optim.Adam(model.fc.parameters(), lr=0.001, weight_decay=0.0001)\n",
    "for param in model.fc.parameters():\n",
    "        param.requires_grad = True\n",
    "print(\"Step 1 training\")\n",
    "step1_best_model, step1_training_losses, step1_validation_losses, step1_training_accuracies, step1_validation_accuracies = train_loop(train_dataloader, val_dataloader, model, loss_fn, optimizer, 100, 5)\n",
    "torch.save(step1_best_model.state_dict(), os.path.join(output_path, \"step1_model.pth\"))"
   ]
  },
  {
   "cell_type": "code",
   "execution_count": 14,
   "metadata": {},
   "outputs": [
    {
     "data": {
      "image/png": "[encoded data removed]",
      "text/plain": [
       "<Figure size 640x480 with 1 Axes>"
      ]
     },
     "metadata": {},
     "output_type": "display_data"
    },
    {
     "data": {
      "image/png": "[encoded data removed]",
      "text/plain": [
       "<Figure size 640x480 with 1 Axes>"
      ]
     },
     "metadata": {},
     "output_type": "display_data"
    }
   ],
   "source": [
    "#plot learning curves\n",
    "plt.figure()\n",
    "plt.plot(step1_training_losses, label='Training Loss')\n",
    "plt.plot(step1_validation_losses, label='Validation Loss')\n",
    "plt.legend()\n",
    "plt.savefig(os.path.join(output_path, \"step1_loss.png\"))\n",
    "\n",
    "plt.figure()\n",
    "plt.plot(step1_training_accuracies, label='Training Accuracy')\n",
    "plt.plot(step1_validation_accuracies, label='Validation Accuracy')\n",
    "plt.legend()\n",
    "plt.savefig(os.path.join(output_path, \"step1_accuracy.png\"))"
   ]
  },
  {
   "cell_type": "code",
   "execution_count": 15,
   "metadata": {},
   "outputs": [
    {
     "name": "stdout",
     "output_type": "stream",
     "text": [
      "Step 2 training\n",
      "Training model...\n"
     ]
    },
    {
     "name": "stderr",
     "output_type": "stream",
     "text": [
      "  0%|          | 0/100 [00:00<?, ?it/s]"
     ]
    },
    {
     "name": "stdout",
     "output_type": "stream",
     "text": [
      "Epoch:  0  Training Loss:  1.3107019239555477\n",
      "Epoch:  0  Training Accuracy:  0.6198388096714197\n"
     ]
    },
    {
     "name": "stderr",
     "output_type": "stream",
     "text": [
      "  1%|          | 1/100 [02:54<4:48:01, 174.56s/it]"
     ]
    },
    {
     "name": "stdout",
     "output_type": "stream",
     "text": [
      "Epoch:  0  Validation Loss:  1.5753912839417656\n",
      "Epoch:  0  Validation Accuracy:  0.5666666666666667\n",
      "Epoch:  1  Training Loss:  1.0194643064136604\n",
      "Epoch:  1  Training Accuracy:  0.6926224426534408\n"
     ]
    },
    {
     "name": "stderr",
     "output_type": "stream",
     "text": [
      "  2%|▏         | 2/100 [05:49<4:45:09, 174.59s/it]"
     ]
    },
    {
     "name": "stdout",
     "output_type": "stream",
     "text": [
      "Epoch:  1  Validation Loss:  1.325309510649337\n",
      "Epoch:  1  Validation Accuracy:  0.640625\n",
      "Epoch:  2  Training Loss:  0.7241337105128709\n",
      "Epoch:  2  Training Accuracy:  0.768753874767514\n"
     ]
    },
    {
     "name": "stderr",
     "output_type": "stream",
     "text": [
      "  3%|▎         | 3/100 [08:45<4:43:23, 175.29s/it]"
     ]
    },
    {
     "name": "stdout",
     "output_type": "stream",
     "text": [
      "Epoch:  2  Validation Loss:  1.188392992079025\n",
      "Epoch:  2  Validation Accuracy:  0.6572916666666667\n",
      "Epoch:  3  Training Loss:  0.6981660501525151\n",
      "Epoch:  3  Training Accuracy:  0.7820210787352759\n"
     ]
    },
    {
     "name": "stderr",
     "output_type": "stream",
     "text": [
      "  4%|▍         | 4/100 [11:39<4:40:00, 175.01s/it]"
     ]
    },
    {
     "name": "stdout",
     "output_type": "stream",
     "text": [
      "Epoch:  3  Validation Loss:  1.0228182949552622\n",
      "Epoch:  3  Validation Accuracy:  0.7135416666666666\n",
      "Epoch:  4  Training Loss:  0.5130443580086569\n",
      "Epoch:  4  Training Accuracy:  0.8333539987600744\n"
     ]
    },
    {
     "name": "stderr",
     "output_type": "stream",
     "text": [
      "  5%|▌         | 5/100 [14:34<4:36:52, 174.87s/it]"
     ]
    },
    {
     "name": "stdout",
     "output_type": "stream",
     "text": [
      "Epoch:  4  Validation Loss:  0.89686791478404\n",
      "Epoch:  4  Validation Accuracy:  0.753125\n",
      "Epoch:  5  Training Loss:  0.4756442897334319\n",
      "Epoch:  5  Training Accuracy:  0.847489150650961\n"
     ]
    },
    {
     "name": "stderr",
     "output_type": "stream",
     "text": [
      "  6%|▌         | 6/100 [17:30<4:34:40, 175.32s/it]"
     ]
    },
    {
     "name": "stdout",
     "output_type": "stream",
     "text": [
      "Epoch:  5  Validation Loss:  0.9501389215512366\n",
      "Epoch:  5  Validation Accuracy:  0.75\n",
      "Epoch:  6  Training Loss:  0.4128274946809232\n",
      "Epoch:  6  Training Accuracy:  0.861128332300062\n"
     ]
    },
    {
     "name": "stderr",
     "output_type": "stream",
     "text": [
      "  7%|▋         | 7/100 [20:25<4:31:23, 175.09s/it]"
     ]
    },
    {
     "name": "stdout",
     "output_type": "stream",
     "text": [
      "Epoch:  6  Validation Loss:  0.8752742906741332\n",
      "Epoch:  6  Validation Accuracy:  0.75\n",
      "Epoch:  7  Training Loss:  0.338950488487558\n",
      "Epoch:  7  Training Accuracy:  0.8889026658400496\n"
     ]
    },
    {
     "name": "stderr",
     "output_type": "stream",
     "text": [
      "  8%|▊         | 8/100 [23:19<4:28:07, 174.86s/it]"
     ]
    },
    {
     "name": "stdout",
     "output_type": "stream",
     "text": [
      "Epoch:  7  Validation Loss:  0.7384455109439538\n",
      "Epoch:  7  Validation Accuracy:  0.80625\n",
      "Epoch:  8  Training Loss:  0.32177383676839877\n",
      "Epoch:  8  Training Accuracy:  0.889026658400496\n"
     ]
    },
    {
     "name": "stderr",
     "output_type": "stream",
     "text": [
      "  9%|▉         | 9/100 [26:15<4:25:45, 175.22s/it]"
     ]
    },
    {
     "name": "stdout",
     "output_type": "stream",
     "text": [
      "Epoch:  8  Validation Loss:  0.7832268622726588\n",
      "Epoch:  8  Validation Accuracy:  0.79375\n",
      "Epoch:  9  Training Loss:  0.2811812006431635\n",
      "Epoch:  9  Training Accuracy:  0.9060136391816491\n"
     ]
    },
    {
     "name": "stderr",
     "output_type": "stream",
     "text": [
      " 10%|█         | 10/100 [29:10<4:22:37, 175.08s/it]"
     ]
    },
    {
     "name": "stdout",
     "output_type": "stream",
     "text": [
      "Epoch:  9  Validation Loss:  0.8119911886726641\n",
      "Epoch:  9  Validation Accuracy:  0.78125\n",
      "Epoch:  10  Training Loss:  0.31772635642047087\n",
      "Epoch:  10  Training Accuracy:  0.8944823310601364\n"
     ]
    },
    {
     "name": "stderr",
     "output_type": "stream",
     "text": [
      " 11%|█         | 11/100 [32:04<4:19:25, 174.89s/it]"
     ]
    },
    {
     "name": "stdout",
     "output_type": "stream",
     "text": [
      "Epoch:  10  Validation Loss:  0.8277231629422507\n",
      "Epoch:  10  Validation Accuracy:  0.7958333333333333\n",
      "Epoch:  11  Training Loss:  0.21518216418489655\n",
      "Epoch:  11  Training Accuracy:  0.9278363298202108\n"
     ]
    },
    {
     "name": "stderr",
     "output_type": "stream",
     "text": [
      " 12%|█▏        | 12/100 [35:00<4:16:52, 175.15s/it]"
     ]
    },
    {
     "name": "stdout",
     "output_type": "stream",
     "text": [
      "Epoch:  11  Validation Loss:  0.7584268110610007\n",
      "Epoch:  11  Validation Accuracy:  0.8052083333333333\n",
      "Epoch:  12  Training Loss:  0.24102612546284138\n",
      "Epoch:  12  Training Accuracy:  0.921264724116553\n"
     ]
    },
    {
     "name": "stderr",
     "output_type": "stream",
     "text": [
      " 13%|█▎        | 13/100 [37:50<4:11:38, 173.54s/it]"
     ]
    },
    {
     "name": "stdout",
     "output_type": "stream",
     "text": [
      "Epoch:  12  Validation Loss:  0.7640839760497481\n",
      "Epoch:  12  Validation Accuracy:  0.79375\n",
      "Epoch:  13  Training Loss:  0.26649484137088525\n",
      "Epoch:  13  Training Accuracy:  0.9128332300061996\n"
     ]
    },
    {
     "name": "stderr",
     "output_type": "stream",
     "text": [
      " 14%|█▍        | 14/100 [40:36<4:05:17, 171.14s/it]"
     ]
    },
    {
     "name": "stdout",
     "output_type": "stream",
     "text": [
      "Epoch:  13  Validation Loss:  0.8352016492864701\n",
      "Epoch:  13  Validation Accuracy:  0.7958333333333333\n",
      "Epoch:  14  Training Loss:  0.19644403212555275\n",
      "Epoch:  14  Training Accuracy:  0.9375077495350279\n"
     ]
    },
    {
     "name": "stderr",
     "output_type": "stream",
     "text": [
      " 15%|█▌        | 15/100 [43:21<3:59:53, 169.33s/it]"
     ]
    },
    {
     "name": "stdout",
     "output_type": "stream",
     "text": [
      "Epoch:  14  Validation Loss:  0.7587444620740522\n",
      "Epoch:  14  Validation Accuracy:  0.7979166666666667\n",
      "Epoch:  15  Training Loss:  0.19675231751126404\n",
      "Epoch:  15  Training Accuracy:  0.934531928084315\n"
     ]
    },
    {
     "name": "stderr",
     "output_type": "stream",
     "text": [
      " 16%|█▌        | 16/100 [46:06<3:55:29, 168.20s/it]"
     ]
    },
    {
     "name": "stdout",
     "output_type": "stream",
     "text": [
      "Epoch:  15  Validation Loss:  0.7325972039163408\n",
      "Epoch:  15  Validation Accuracy:  0.821875\n",
      "Epoch:  16  Training Loss:  0.2203398589595619\n",
      "Epoch:  16  Training Accuracy:  0.928580285182889\n"
     ]
    },
    {
     "name": "stderr",
     "output_type": "stream",
     "text": [
      " 17%|█▋        | 17/100 [48:52<3:51:35, 167.42s/it]"
     ]
    },
    {
     "name": "stdout",
     "output_type": "stream",
     "text": [
      "Epoch:  16  Validation Loss:  0.8886464203742346\n",
      "Epoch:  16  Validation Accuracy:  0.7875\n",
      "Epoch:  17  Training Loss:  0.19432797495769\n",
      "Epoch:  17  Training Accuracy:  0.9356478611283323\n"
     ]
    },
    {
     "name": "stderr",
     "output_type": "stream",
     "text": [
      " 18%|█▊        | 18/100 [51:38<3:48:05, 166.90s/it]"
     ]
    },
    {
     "name": "stdout",
     "output_type": "stream",
     "text": [
      "Epoch:  17  Validation Loss:  0.8318881092583978\n",
      "Epoch:  17  Validation Accuracy:  0.803125\n",
      "Epoch:  18  Training Loss:  0.14490393975471072\n",
      "Epoch:  18  Training Accuracy:  0.9533787972721637\n"
     ]
    },
    {
     "name": "stderr",
     "output_type": "stream",
     "text": [
      " 19%|█▉        | 19/100 [54:23<3:44:47, 166.51s/it]"
     ]
    },
    {
     "name": "stdout",
     "output_type": "stream",
     "text": [
      "Epoch:  18  Validation Loss:  0.7902022168198145\n",
      "Epoch:  18  Validation Accuracy:  0.81875\n",
      "Epoch:  19  Training Loss:  0.14697823035741853\n",
      "Epoch:  19  Training Accuracy:  0.9508989460632362\n"
     ]
    },
    {
     "name": "stderr",
     "output_type": "stream",
     "text": [
      " 20%|██        | 20/100 [57:09<3:41:37, 166.22s/it]"
     ]
    },
    {
     "name": "stdout",
     "output_type": "stream",
     "text": [
      "Epoch:  19  Validation Loss:  0.7203328640662235\n",
      "Epoch:  19  Validation Accuracy:  0.8208333333333333\n",
      "Epoch:  20  Training Loss:  0.19017891282339702\n",
      "Epoch:  20  Training Accuracy:  0.937879727216367\n"
     ]
    },
    {
     "name": "stderr",
     "output_type": "stream",
     "text": [
      " 21%|██        | 21/100 [59:54<3:38:40, 166.08s/it]"
     ]
    },
    {
     "name": "stdout",
     "output_type": "stream",
     "text": [
      "Epoch:  20  Validation Loss:  0.8101052016476407\n",
      "Epoch:  20  Validation Accuracy:  0.8197916666666667\n",
      "Epoch:  21  Training Loss:  0.1773404774476642\n",
      "Epoch:  21  Training Accuracy:  0.9417234965902046\n"
     ]
    },
    {
     "name": "stderr",
     "output_type": "stream",
     "text": [
      " 22%|██▏       | 22/100 [1:02:40<3:35:46, 165.99s/it]"
     ]
    },
    {
     "name": "stdout",
     "output_type": "stream",
     "text": [
      "Epoch:  21  Validation Loss:  0.7822773832361805\n",
      "Epoch:  21  Validation Accuracy:  0.815625\n",
      "Epoch:  22  Training Loss:  0.15284925960770573\n",
      "Epoch:  22  Training Accuracy:  0.9537507749535028\n"
     ]
    },
    {
     "name": "stderr",
     "output_type": "stream",
     "text": [
      " 23%|██▎       | 23/100 [1:05:26<3:32:57, 165.95s/it]"
     ]
    },
    {
     "name": "stdout",
     "output_type": "stream",
     "text": [
      "Epoch:  22  Validation Loss:  0.7724381118615185\n",
      "Epoch:  22  Validation Accuracy:  0.8166666666666667\n",
      "Epoch:  23  Training Loss:  0.13711063256556164\n",
      "Epoch:  23  Training Accuracy:  0.9530068195908246\n"
     ]
    },
    {
     "name": "stderr",
     "output_type": "stream",
     "text": [
      " 24%|██▍       | 24/100 [1:08:12<3:30:07, 165.89s/it]"
     ]
    },
    {
     "name": "stdout",
     "output_type": "stream",
     "text": [
      "Epoch:  23  Validation Loss:  0.7374612600850015\n",
      "Epoch:  23  Validation Accuracy:  0.8322916666666667\n",
      "Epoch:  24  Training Loss:  0.14962027578405782\n",
      "Epoch:  24  Training Accuracy:  0.9528828270303782\n"
     ]
    },
    {
     "name": "stderr",
     "output_type": "stream",
     "text": [
      " 25%|██▌       | 25/100 [1:10:58<3:27:19, 165.86s/it]"
     ]
    },
    {
     "name": "stdout",
     "output_type": "stream",
     "text": [
      "Epoch:  24  Validation Loss:  0.7765993077845202\n",
      "Epoch:  24  Validation Accuracy:  0.809375\n",
      "Epoch:  25  Training Loss:  0.13837886970289026\n",
      "Epoch:  25  Training Accuracy:  0.9549907005579665\n"
     ]
    },
    {
     "name": "stderr",
     "output_type": "stream",
     "text": [
      " 26%|██▌       | 26/100 [1:13:43<3:24:30, 165.81s/it]"
     ]
    },
    {
     "name": "stdout",
     "output_type": "stream",
     "text": [
      "Epoch:  25  Validation Loss:  0.718795664630655\n",
      "Epoch:  25  Validation Accuracy:  0.821875\n",
      "Epoch:  26  Training Loss:  0.16502206776496872\n",
      "Epoch:  26  Training Accuracy:  0.9460632362058277\n"
     ]
    },
    {
     "name": "stderr",
     "output_type": "stream",
     "text": [
      " 27%|██▋       | 27/100 [1:16:29<3:21:39, 165.75s/it]"
     ]
    },
    {
     "name": "stdout",
     "output_type": "stream",
     "text": [
      "Epoch:  26  Validation Loss:  0.7880036456021647\n",
      "Epoch:  26  Validation Accuracy:  0.81875\n",
      "Epoch:  27  Training Loss:  0.1254921360770977\n",
      "Epoch:  27  Training Accuracy:  0.958462492250465\n"
     ]
    },
    {
     "name": "stderr",
     "output_type": "stream",
     "text": [
      " 28%|██▊       | 28/100 [1:19:15<3:18:51, 165.72s/it]"
     ]
    },
    {
     "name": "stdout",
     "output_type": "stream",
     "text": [
      "Epoch:  27  Validation Loss:  0.7569675779273136\n",
      "Epoch:  27  Validation Accuracy:  0.825\n",
      "Epoch:  28  Training Loss:  0.13782818205130942\n",
      "Epoch:  28  Training Accuracy:  0.9597024178549287\n"
     ]
    },
    {
     "name": "stderr",
     "output_type": "stream",
     "text": [
      " 29%|██▉       | 29/100 [1:22:00<3:16:05, 165.70s/it]"
     ]
    },
    {
     "name": "stdout",
     "output_type": "stream",
     "text": [
      "Epoch:  28  Validation Loss:  0.8169126820527367\n",
      "Epoch:  28  Validation Accuracy:  0.828125\n",
      "Epoch:  29  Training Loss:  0.1136568453397466\n",
      "Epoch:  29  Training Accuracy:  0.9644141351518909\n"
     ]
    },
    {
     "name": "stderr",
     "output_type": "stream",
     "text": [
      " 30%|███       | 30/100 [1:24:46<3:13:16, 165.67s/it]"
     ]
    },
    {
     "name": "stdout",
     "output_type": "stream",
     "text": [
      "Epoch:  29  Validation Loss:  0.7186421554037415\n",
      "Epoch:  29  Validation Accuracy:  0.8447916666666667\n",
      "Epoch:  30  Training Loss:  0.138116385239679\n",
      "Epoch:  30  Training Accuracy:  0.956478611283323\n"
     ]
    },
    {
     "name": "stderr",
     "output_type": "stream",
     "text": [
      " 31%|███       | 31/100 [1:27:31<3:10:30, 165.65s/it]"
     ]
    },
    {
     "name": "stdout",
     "output_type": "stream",
     "text": [
      "Epoch:  30  Validation Loss:  0.8858699004635201\n",
      "Epoch:  30  Validation Accuracy:  0.821875\n",
      "Epoch:  31  Training Loss:  0.12411796853895708\n",
      "Epoch:  31  Training Accuracy:  0.9609423434593924\n"
     ]
    },
    {
     "name": "stderr",
     "output_type": "stream",
     "text": [
      " 32%|███▏      | 32/100 [1:30:17<3:07:40, 165.60s/it]"
     ]
    },
    {
     "name": "stdout",
     "output_type": "stream",
     "text": [
      "Epoch:  31  Validation Loss:  0.7840316593510425\n",
      "Epoch:  31  Validation Accuracy:  0.8385416666666666\n",
      "Epoch:  32  Training Loss:  0.10923717135282937\n",
      "Epoch:  32  Training Accuracy:  0.9632982021078735\n"
     ]
    },
    {
     "name": "stderr",
     "output_type": "stream",
     "text": [
      " 33%|███▎      | 33/100 [1:33:03<3:04:54, 165.59s/it]"
     ]
    },
    {
     "name": "stdout",
     "output_type": "stream",
     "text": [
      "Epoch:  32  Validation Loss:  0.8812816272666167\n",
      "Epoch:  32  Validation Accuracy:  0.8114583333333333\n",
      "Epoch:  33  Training Loss:  0.1245468203133285\n",
      "Epoch:  33  Training Accuracy:  0.9613143211407316\n"
     ]
    },
    {
     "name": "stderr",
     "output_type": "stream",
     "text": [
      " 34%|███▍      | 34/100 [1:35:48<3:02:15, 165.69s/it]"
     ]
    },
    {
     "name": "stdout",
     "output_type": "stream",
     "text": [
      "Epoch:  33  Validation Loss:  0.7969816800387222\n",
      "Epoch:  33  Validation Accuracy:  0.8291666666666667\n",
      "Epoch:  34  Training Loss:  0.14948793184779027\n",
      "Epoch:  34  Training Accuracy:  0.9541227526348419\n"
     ]
    },
    {
     "name": "stderr",
     "output_type": "stream",
     "text": [
      " 35%|███▌      | 35/100 [1:38:34<2:59:30, 165.70s/it]"
     ]
    },
    {
     "name": "stdout",
     "output_type": "stream",
     "text": [
      "Epoch:  34  Validation Loss:  0.7892565811036524\n",
      "Epoch:  34  Validation Accuracy:  0.8333333333333334\n",
      "Epoch:  35  Training Loss:  0.13577336081778407\n",
      "Epoch:  35  Training Accuracy:  0.9601983880967142\n"
     ]
    },
    {
     "name": "stderr",
     "output_type": "stream",
     "text": [
      " 36%|███▌      | 36/100 [1:41:20<2:56:48, 165.76s/it]"
     ]
    },
    {
     "name": "stdout",
     "output_type": "stream",
     "text": [
      "Epoch:  35  Validation Loss:  0.8317601054628431\n",
      "Epoch:  35  Validation Accuracy:  0.8166666666666667\n",
      "Epoch:  36  Training Loss:  0.11821921610091038\n",
      "Epoch:  36  Training Accuracy:  0.9641661500309981\n"
     ]
    },
    {
     "name": "stderr",
     "output_type": "stream",
     "text": [
      " 37%|███▋      | 37/100 [1:44:06<2:54:02, 165.75s/it]"
     ]
    },
    {
     "name": "stdout",
     "output_type": "stream",
     "text": [
      "Epoch:  36  Validation Loss:  0.7946864670450291\n",
      "Epoch:  36  Validation Accuracy:  0.8322916666666667\n",
      "Epoch:  37  Training Loss:  0.09339908388442751\n",
      "Epoch:  37  Training Accuracy:  0.9701177929324241\n"
     ]
    },
    {
     "name": "stderr",
     "output_type": "stream",
     "text": [
      " 38%|███▊      | 38/100 [1:46:52<2:51:16, 165.75s/it]"
     ]
    },
    {
     "name": "stdout",
     "output_type": "stream",
     "text": [
      "Epoch:  37  Validation Loss:  0.750295607578281\n",
      "Epoch:  37  Validation Accuracy:  0.8510416666666667\n",
      "Epoch:  38  Training Loss:  0.11426352362687987\n",
      "Epoch:  38  Training Accuracy:  0.9654060756354619\n"
     ]
    },
    {
     "name": "stderr",
     "output_type": "stream",
     "text": [
      " 39%|███▉      | 39/100 [1:49:37<2:48:33, 165.80s/it]"
     ]
    },
    {
     "name": "stdout",
     "output_type": "stream",
     "text": [
      "Epoch:  38  Validation Loss:  0.708949759689728\n",
      "Epoch:  38  Validation Accuracy:  0.8458333333333333\n",
      "Epoch:  39  Training Loss:  0.09698800140573499\n",
      "Epoch:  39  Training Accuracy:  0.9712337259764414\n"
     ]
    },
    {
     "name": "stderr",
     "output_type": "stream",
     "text": [
      " 40%|████      | 40/100 [1:52:23<2:45:47, 165.79s/it]"
     ]
    },
    {
     "name": "stdout",
     "output_type": "stream",
     "text": [
      "Epoch:  39  Validation Loss:  0.7286388723631421\n",
      "Epoch:  39  Validation Accuracy:  0.846875\n",
      "Epoch:  40  Training Loss:  0.08825192826590268\n",
      "Epoch:  40  Training Accuracy:  0.972101673899566\n"
     ]
    },
    {
     "name": "stderr",
     "output_type": "stream",
     "text": [
      " 41%|████      | 41/100 [1:55:09<2:43:00, 165.78s/it]"
     ]
    },
    {
     "name": "stdout",
     "output_type": "stream",
     "text": [
      "Epoch:  40  Validation Loss:  0.9065482694212534\n",
      "Epoch:  40  Validation Accuracy:  0.8104166666666667\n",
      "Epoch:  41  Training Loss:  0.10237393475334305\n",
      "Epoch:  41  Training Accuracy:  0.9678859268443893\n"
     ]
    },
    {
     "name": "stderr",
     "output_type": "stream",
     "text": [
      " 42%|████▏     | 42/100 [1:57:55<2:40:13, 165.76s/it]"
     ]
    },
    {
     "name": "stdout",
     "output_type": "stream",
     "text": [
      "Epoch:  41  Validation Loss:  0.8579509722232925\n",
      "Epoch:  41  Validation Accuracy:  0.8291666666666667\n",
      "Epoch:  42  Training Loss:  0.10392930686864317\n",
      "Epoch:  42  Training Accuracy:  0.9683818970861748\n"
     ]
    },
    {
     "name": "stderr",
     "output_type": "stream",
     "text": [
      " 43%|████▎     | 43/100 [2:00:41<2:37:31, 165.82s/it]"
     ]
    },
    {
     "name": "stdout",
     "output_type": "stream",
     "text": [
      "Epoch:  42  Validation Loss:  0.8318211197332893\n",
      "Epoch:  42  Validation Accuracy:  0.8375\n",
      "Epoch:  43  Training Loss:  0.09835037892073693\n",
      "Epoch:  43  Training Accuracy:  0.9702417854928704\n"
     ]
    },
    {
     "name": "stderr",
     "output_type": "stream",
     "text": [
      " 44%|████▍     | 44/100 [2:03:26<2:34:46, 165.83s/it]"
     ]
    },
    {
     "name": "stdout",
     "output_type": "stream",
     "text": [
      "Epoch:  43  Validation Loss:  0.8026693781428555\n",
      "Epoch:  43  Validation Accuracy:  0.8479166666666667\n",
      "Epoch:  44  Training Loss:  0.09307497318579312\n",
      "Epoch:  44  Training Accuracy:  0.9728456292622443\n"
     ]
    },
    {
     "name": "stderr",
     "output_type": "stream",
     "text": [
      " 45%|████▌     | 45/100 [2:06:12<2:32:01, 165.85s/it]"
     ]
    },
    {
     "name": "stdout",
     "output_type": "stream",
     "text": [
      "Epoch:  44  Validation Loss:  0.7480751169622277\n",
      "Epoch:  44  Validation Accuracy:  0.840625\n",
      "Epoch:  45  Training Loss:  0.08539021776429503\n",
      "Epoch:  45  Training Accuracy:  0.974085554866708\n"
     ]
    },
    {
     "name": "stderr",
     "output_type": "stream",
     "text": [
      " 46%|████▌     | 46/100 [2:08:58<2:29:15, 165.84s/it]"
     ]
    },
    {
     "name": "stdout",
     "output_type": "stream",
     "text": [
      "Epoch:  45  Validation Loss:  0.7547981187271409\n",
      "Epoch:  45  Validation Accuracy:  0.840625\n",
      "Epoch:  46  Training Loss:  0.09102887329400235\n",
      "Epoch:  46  Training Accuracy:  0.9712337259764414\n"
     ]
    },
    {
     "name": "stderr",
     "output_type": "stream",
     "text": [
      " 47%|████▋     | 47/100 [2:11:44<2:26:28, 165.82s/it]"
     ]
    },
    {
     "name": "stdout",
     "output_type": "stream",
     "text": [
      "Epoch:  46  Validation Loss:  0.9189393290230881\n",
      "Epoch:  46  Validation Accuracy:  0.8291666666666667\n",
      "Epoch:  47  Training Loss:  0.0887282701092074\n",
      "Epoch:  47  Training Accuracy:  0.9732176069435834\n"
     ]
    },
    {
     "name": "stderr",
     "output_type": "stream",
     "text": [
      " 47%|████▋     | 47/100 [2:14:30<2:31:40, 171.70s/it]"
     ]
    },
    {
     "name": "stdout",
     "output_type": "stream",
     "text": [
      "Epoch:  47  Validation Loss:  0.824122945781692\n",
      "Epoch:  47  Validation Accuracy:  0.8375\n",
      "Early stopping...\n"
     ]
    },
    {
     "name": "stderr",
     "output_type": "stream",
     "text": [
      "\n"
     ]
    }
   ],
   "source": [
    "for param in step1_best_model.parameters():\n",
    "    param.requires_grad = True\n",
    "optimizer = torch.optim.Adam(step1_best_model.parameters(), lr=0.0001, weight_decay=0.0001)\n",
    "print(\"Step 2 training\")\n",
    "step2_best_model, step2_training_losses, step2_validation_losses, step2_training_accuracies, step2_validation_accuracies = train_loop(train_dataloader, val_dataloader, step1_best_model, loss_fn, optimizer, 100, 10)\n",
    "torch.save(step2_best_model.state_dict(), os.path.join(output_path, \"step2_model.pth\"))\n"
   ]
  },
  {
   "cell_type": "code",
   "execution_count": 16,
   "metadata": {},
   "outputs": [
    {
     "data": {
      "image/png": "[encoded data removed]",
      "text/plain": [
       "<Figure size 640x480 with 1 Axes>"
      ]
     },
     "metadata": {},
     "output_type": "display_data"
    },
    {
     "data": {
      "image/png": "[encoded data removed]",
      "text/plain": [
       "<Figure size 640x480 with 1 Axes>"
      ]
     },
     "metadata": {},
     "output_type": "display_data"
    }
   ],
   "source": [
    "#plot learning curves\n",
    "plt.figure()\n",
    "plt.plot(step2_training_losses, label='Training Loss')\n",
    "plt.plot(step2_validation_losses, label='Validation Loss')\n",
    "plt.legend()\n",
    "plt.savefig(os.path.join(output_path, \"step2_loss.png\"))\n",
    "\n",
    "plt.figure()\n",
    "plt.plot(step2_training_accuracies, label='Training Accuracy')\n",
    "plt.plot(step2_validation_accuracies, label='Validation Accuracy')\n",
    "plt.legend()\n",
    "plt.savefig(os.path.join(output_path, \"step2_accuracy.png\"))"
   ]
  },
  {
   "cell_type": "code",
   "execution_count": 17,
   "metadata": {},
   "outputs": [
    {
     "name": "stdout",
     "output_type": "stream",
     "text": [
      "Test accuracy:  0.8291666666666667\n"
     ]
    }
   ],
   "source": [
    "preds, true, _ = evaluate(test_dataloader, step2_best_model, loss_fn)\n",
    "print(\"Test accuracy: \", np.mean(preds == true))"
   ]
  }
 ],
 "metadata": {
  "kernelspec": {
   "display_name": "MIR",
   "language": "python",
   "name": "python3"
  },
  "language_info": {
   "codemirror_mode": {
    "name": "ipython",
    "version": 3
   },
   "file_extension": ".py",
   "mimetype": "text/x-python",
   "name": "python",
   "nbconvert_exporter": "python",
   "pygments_lexer": "ipython3",
   "version": "3.10.11"
  }
 },
 "nbformat": 4,
 "nbformat_minor": 2
}
